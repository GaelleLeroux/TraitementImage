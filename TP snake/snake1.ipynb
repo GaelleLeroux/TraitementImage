{
 "cells": [
  {
   "cell_type": "code",
   "execution_count": 16,
   "metadata": {},
   "outputs": [],
   "source": [
    "import numpy as np\n",
    "from matplotlib import pyplot as plt\n",
    "from scipy import sparse as sp\n",
    "import cv2"
   ]
  },
  {
   "attachments": {},
   "cell_type": "markdown",
   "metadata": {},
   "source": [
    "Lecture de l'image "
   ]
  },
  {
   "cell_type": "code",
   "execution_count": 17,
   "metadata": {},
   "outputs": [
    {
     "data": {
      "image/png": "[encoded data removed]",
      "text/plain": [
       "<Figure size 432x288 with 1 Axes>"
      ]
     },
     "metadata": {
      "needs_background": "light"
     },
     "output_type": "display_data"
    }
   ],
   "source": [
    "I = cv2.imread(\"im_goutte.png\",0)\n",
    "In = cv2.normalize(I,None,0,1.0,cv2.NORM_MINMAX,dtype=cv2.CV_32F)\n",
    "\n",
    "plt.figure()\n",
    "plt.title(\"Image de base normalisée\")\n",
    "plt.imshow(In,'gray') # affichage de l'image I en niveau de gris\n",
    "plt.show()"
   ]
  },
  {
   "attachments": {},
   "cell_type": "markdown",
   "metadata": {},
   "source": [
    "Initialisation de notre snake "
   ]
  },
  {
   "cell_type": "code",
   "execution_count": 18,
   "metadata": {},
   "outputs": [
    {
     "name": "stderr",
     "output_type": "stream",
     "text": [
      "Clipping input data to the valid range for imshow with RGB data ([0..1] for floats or [0..255] for integers).\n"
     ]
    },
    {
     "data": {
      "image/png": "[encoded data removed]",
      "text/plain": [
       "<Figure size 432x288 with 1 Axes>"
      ]
     },
     "metadata": {
      "needs_background": "light"
     },
     "output_type": "display_data"
    }
   ],
   "source": [
    "y,x = np.shape(I)\n",
    "K = 400\n",
    "cercle = np.zeros([2,K])\n",
    "centreX = int(x/2)\n",
    "centreY = int(y/2)\n",
    "rayon = 70\n",
    "theta = 0\n",
    "\n",
    "c = list()\n",
    "cc = np.zeros((K,1,2))\n",
    "\n",
    "for i, angle in enumerate(np.linspace(0,2*np.pi,K)):\n",
    "    cercle[0,i] = centreX + rayon*np.cos(angle)\n",
    "    cercle[1,i] = centreY + rayon*np.sin(angle)\n",
    "    \n",
    "\n",
    "cc[:,0,0] = cercle[0,:]\n",
    "cc[:,0,1] = cercle[1,:]\n",
    "c.append(cc.astype(int))\n",
    "\n",
    "IC = cv2.drawContours(image=cv2.cvtColor(In,cv2.COLOR_GRAY2BGR),contours=c,contourIdx=len(c) -1,color=(0,255,0),thickness=1,lineType=cv2.LINE_AA)\n",
    "\n",
    "plt.figure()\n",
    "plt.title(\"Image de base normalisée avec notre snake initial\")\n",
    "plt.imshow(IC,'gray') # affichage de l'image I en niveau de gris\n",
    "plt.show()\n",
    "    "
   ]
  },
  {
   "attachments": {},
   "cell_type": "markdown",
   "metadata": {},
   "source": [
    "Initialisation de l'algorithme"
   ]
  },
  {
   "cell_type": "code",
   "execution_count": 19,
   "metadata": {},
   "outputs": [],
   "source": [
    "alpha = 5\n",
    "beta = 3\n",
    "gamma = 5\n",
    "deltaT = 0.1\n",
    "\n",
    "#Opérateur différentiel\n",
    "D2 =sp.diags([1,-2,1],[-1,0,1],shape=(K,K)).toarray()\n",
    "D2[0,K-1] = 1\n",
    "D2[K-1,0] = 1\n",
    "D4 =sp.diags([1,-4,6,-4,1],[-2,-1,0,1,2],shape=(K,K)).toarray()\n",
    "D4[1,K-1] = 1\n",
    "D4[K-1,1] = 1\n",
    "D4[0,K-2] = 1\n",
    "D4[K-2,0] = 1\n",
    "D4[0,K-1] = -4\n",
    "D4[K-1,0] = -4\n",
    "\n",
    "D = alpha*D2 - beta*D4\n",
    "A = np.linalg.inv(np.eye(K,K)-deltaT*D)\n",
    "\n",
    "#Gradient\n",
    "gy, gx = np.gradient(In)\n",
    "gradI = gx**2+gy**2\n",
    "gradY,gradX = np.gradient(gradI)\n",
    "\n",
    "#Condition d'arrêt : lorsque norm(xn+1-xn)<epsilon on va prendre pr tester en premier epison = 10**-3"
   ]
  },
  {
   "attachments": {},
   "cell_type": "markdown",
   "metadata": {},
   "source": [
    "Implémentation de la procédure itérative"
   ]
  },
  {
   "cell_type": "code",
   "execution_count": 20,
   "metadata": {},
   "outputs": [
    {
     "ename": "ValueError",
     "evalue": "operands could not be broadcast together with shapes (400,) (236,198) ",
     "output_type": "error",
     "traceback": [
      "\u001b[1;31m---------------------------------------------------------------------------\u001b[0m",
      "\u001b[1;31mValueError\u001b[0m                                Traceback (most recent call last)",
      "\u001b[1;32m~\\AppData\\Local\\Temp/ipykernel_18976/3307819260.py\u001b[0m in \u001b[0;36m<module>\u001b[1;34m\u001b[0m\n\u001b[0;32m      7\u001b[0m \u001b[1;32mwhile\u001b[0m \u001b[0mn\u001b[0m\u001b[1;33m>\u001b[0m\u001b[0mepsilon\u001b[0m \u001b[1;33m:\u001b[0m\u001b[1;33m\u001b[0m\u001b[1;33m\u001b[0m\u001b[0m\n\u001b[0;32m      8\u001b[0m     \u001b[0mxn1\u001b[0m \u001b[1;33m=\u001b[0m \u001b[0mxn2\u001b[0m\u001b[1;33m\u001b[0m\u001b[1;33m\u001b[0m\u001b[0m\n\u001b[1;32m----> 9\u001b[1;33m     \u001b[0mxn2\u001b[0m\u001b[1;33m[\u001b[0m\u001b[1;33m:\u001b[0m\u001b[1;33m,\u001b[0m\u001b[1;36m0\u001b[0m\u001b[1;33m,\u001b[0m\u001b[1;36m0\u001b[0m\u001b[1;33m]\u001b[0m \u001b[1;33m=\u001b[0m \u001b[0mA\u001b[0m\u001b[1;33m*\u001b[0m\u001b[1;33m(\u001b[0m\u001b[0mxn1\u001b[0m\u001b[1;33m[\u001b[0m\u001b[1;33m:\u001b[0m\u001b[1;33m,\u001b[0m\u001b[1;36m0\u001b[0m\u001b[1;33m,\u001b[0m\u001b[1;36m0\u001b[0m\u001b[1;33m]\u001b[0m\u001b[1;33m+\u001b[0m\u001b[0mdeltaT\u001b[0m\u001b[1;33m*\u001b[0m\u001b[0mgamma\u001b[0m\u001b[1;33m*\u001b[0m\u001b[0mgradX\u001b[0m\u001b[1;33m)\u001b[0m\u001b[1;33m\u001b[0m\u001b[1;33m\u001b[0m\u001b[0m\n\u001b[0m\u001b[0;32m     10\u001b[0m     \u001b[0mn\u001b[0m\u001b[1;33m=\u001b[0m\u001b[1;36m0\u001b[0m\u001b[1;33m\u001b[0m\u001b[1;33m\u001b[0m\u001b[0m\n",
      "\u001b[1;31mValueError\u001b[0m: operands could not be broadcast together with shapes (400,) (236,198) "
     ]
    }
   ],
   "source": [
    "epsilon = 10**-3\n",
    "\n",
    "xn2 = cc\n",
    "xn1 = cc\n",
    "\n",
    "n = 1\n",
    "while n>epsilon :\n",
    "    xn1 = xn2\n",
    "    xn2[:,0,0] = A*(xn1[:,0,0]+deltaT*gamma*gradX)\n",
    "    n=0"
   ]
  }
 ],
 "metadata": {
  "kernelspec": {
   "display_name": "cpe-imi",
   "language": "python",
   "name": "python3"
  },
  "language_info": {
   "codemirror_mode": {
    "name": "ipython",
    "version": 3
   },
   "file_extension": ".py",
   "mimetype": "text/x-python",
   "name": "python",
   "nbconvert_exporter": "python",
   "pygments_lexer": "ipython3",
   "version": "3.9.13"
  },
  "orig_nbformat": 4
 },
 "nbformat": 4,
 "nbformat_minor": 2
}
